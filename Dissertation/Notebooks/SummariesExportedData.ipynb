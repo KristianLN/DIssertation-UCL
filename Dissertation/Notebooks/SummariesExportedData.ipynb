{
 "cells": [
  {
   "cell_type": "code",
   "execution_count": 1,
   "metadata": {},
   "outputs": [
    {
     "name": "stderr",
     "output_type": "stream",
     "text": [
      "C:\\Users\\Krist\\Anaconda3\\lib\\site-packages\\h5py\\__init__.py:36: FutureWarning: Conversion of the second argument of issubdtype from `float` to `np.floating` is deprecated. In future, it will be treated as `np.float64 == np.dtype(float).type`.\n",
      "  from ._conv import register_converters as _register_converters\n"
     ]
    }
   ],
   "source": [
    "import numpy as np\n",
    "import pandas as pd\n",
    "import matplotlib.pyplot as plt\n",
    "import tensorflow as tf\n",
    "import re\n",
    "import os"
   ]
  },
  {
   "cell_type": "code",
   "execution_count": 2,
   "metadata": {},
   "outputs": [],
   "source": [
    "def getStatistics(files):\n",
    "    if files == 1:\n",
    "        filesForProcessing = availableFiles[:]\n",
    "        \n",
    "    elif isinstance(files,list):\n",
    "        filesForProcessing = files[:]\n",
    "    else:\n",
    "        print(\"Incorrect format - please specify either a list or '1'\")\n",
    "    \n",
    "    for element in filesForProcessing:\n",
    "        print(\"-----------------------------------------------------------------------------------------------\")\n",
    "        print(\"The file being processed is: %s\" % element)\n",
    "        \n",
    "        with open(path + \"/\"+element,\"r\") as file:\n",
    "            temp = file.readlines()\n",
    "\n",
    "        tempClean = [re.sub(\"[\\n ]\",\"\",i) for i in temp]\n",
    "\n",
    "        if len(tempClean[0]) == 1:\n",
    "\n",
    "            tempClean = [int(i) for i in tempClean]\n",
    "\n",
    "            uniqueVals, counts = np.unique(tempClean,return_counts = True)# Perhaps should listOfObs be sorted?\n",
    "\n",
    "            if len(uniqueVals) > 50:\n",
    "                print(\"\\nThere are more than 50 unique values, so a histogram over the values are shown.\")\n",
    "#                     answer = input(\"There are more than 50 unique values, do you want to see them? \")\n",
    "\n",
    "#                     if (answer == 'yes') or (answer == 'Yes'):\n",
    "#                         print(\"The unique values and their frequency count, presented as {unique Value: Count}, are:\\n\")\n",
    "#                         print({uniqueVal:count for uniqueVal,count in zip(uniqueVals,counts)},\"\\n\")\n",
    "                plt.hist(tempClean)\n",
    "                plt.title(\"Distribution of the data\")\n",
    "                plt.show()\n",
    "            else:\n",
    "                print(\"\\nThe unique values and their frequency count, presented as {unique Value: Count}, are:\\n\")\n",
    "                print({uniqueVal:count for uniqueVal,count in zip(uniqueVals,counts)},\"\\n\")\n",
    "\n",
    "        else:\n",
    "\n",
    "            tempClean = [re.split(\",\",i) for i in tempClean]\n",
    "\n",
    "            lenOfElements = len(tempClean[0])\n",
    "\n",
    "            database = [[] for i in np.arange(lenOfElements)]\n",
    "\n",
    "            # Dividing in the observations\n",
    "            for observation in tempClean:\n",
    "                for partial in enumerate(observation):\n",
    "\n",
    "                    database[partial[0]].append(int(partial[1]))\n",
    "\n",
    "            # Getting information on the content of each list in the database.\n",
    "            print(\"\\nThe file contains %i separate streams of values.\" % lenOfElements)\n",
    "            for listOfObs in database:\n",
    "                uniqueVals, counts = np.unique(listOfObs,return_counts = True)# Perhaps should listOfObs be sorted?\n",
    "\n",
    "                if (all(counts == 1)):\n",
    "                    answer = input(\"\\nAll values of the variable currently being processed is equal to one, which indiates\\\n",
    "that the values are numberic of other values. Do you want to disregard the processing of these values? \")\n",
    "                    if (answer == 'no') or (answer == 'No'):\n",
    "                        print({uniqueVal:count for uniqueVal,count in zip(uniqueVals,counts)},\"\\n\")\n",
    "\n",
    "                else:\n",
    "                    if len(uniqueVals) > 50:\n",
    "#                             answer = input(\"There are more than 50 unique values, do you want to see them? \")\n",
    "\n",
    "#                             if (answer == 'yes') or (answer == 'Yes'):\n",
    "#                                 print(\"The unique values and their frequency count, presented as {unique Value: Count}, are:\\n\")\n",
    "#                                 print({uniqueVal:count for uniqueVal,count in zip(uniqueVals,counts)},\"\\n\")\n",
    "                        print(\"\\nThere are more than 50 unique values, so a histogram over the values are shown.\")\n",
    "                        plt.hist(listOfObs)\n",
    "                        plt.title(\"Distribution of the data\")\n",
    "                        plt.show()\n",
    "                    else:\n",
    "                        print(\"\\nThe unique values and their frequency count, presented as {unique Value: Count}, are:\\n\")\n",
    "                        print({uniqueVal:count for uniqueVal,count in zip(uniqueVals,counts)},\"\\n\")"
   ]
  },
  {
   "cell_type": "code",
   "execution_count": 3,
   "metadata": {},
   "outputs": [],
   "source": [
    "availableFolders = {}\n",
    "folderCount = 0\n",
    "\n",
    "for element in os.listdir(\"../Assets/Exported_Data\"):\n",
    "    if (\"txt\" not in element) and (\"meta\" not in element):\n",
    "        availableFolders[folderCount] = element\n",
    "        folderCount += 1\n",
    "        "
   ]
  },
  {
   "cell_type": "code",
   "execution_count": 4,
   "metadata": {},
   "outputs": [
    {
     "name": "stdout",
     "output_type": "stream",
     "text": [
      "The available folders, containing the data of interest, are:\n"
     ]
    },
    {
     "data": {
      "text/plain": [
       "{0: 'Profiling - FullSetupWithVisualInput',\n",
       " 1: 'Profiling-1.10',\n",
       " 2: 'Profiling-1.4',\n",
       " 3: 'Profiling-1.5',\n",
       " 4: 'Profiling-1.6',\n",
       " 5: 'Profiling-1.7',\n",
       " 6: 'Profiling-1.8',\n",
       " 7: 'Profiling-1.9'}"
      ]
     },
     "execution_count": 4,
     "metadata": {},
     "output_type": "execute_result"
    }
   ],
   "source": [
    "print(\"The available folders, containing the data of interest, are:\")\n",
    "availableFolders"
   ]
  },
  {
   "cell_type": "code",
   "execution_count": 12,
   "metadata": {},
   "outputs": [],
   "source": [
    "path = \"C:/Users/Krist/GitHub/ml-agents/Dissertation/Assets/Exported_Data/\"+availableFolders[7]# <- Choose the folders from above"
   ]
  },
  {
   "cell_type": "markdown",
   "metadata": {},
   "source": [
    "## Statistics on the content of the files in the folder"
   ]
  },
  {
   "cell_type": "code",
   "execution_count": 13,
   "metadata": {},
   "outputs": [
    {
     "name": "stdout",
     "output_type": "stream",
     "text": [
      "The available files are: \n"
     ]
    },
    {
     "data": {
      "text/plain": [
       "['pedCount.txt', 'posCount.txt', 'sensorCloudCount.txt']"
      ]
     },
     "execution_count": 13,
     "metadata": {},
     "output_type": "execute_result"
    }
   ],
   "source": [
    "availableFiles = [ele for ele in os.listdir(path) if \"meta\" not in ele]\n",
    "print(\"The available files are: \")\n",
    "availableFiles"
   ]
  },
  {
   "cell_type": "code",
   "execution_count": 14,
   "metadata": {},
   "outputs": [
    {
     "name": "stdout",
     "output_type": "stream",
     "text": [
      "-----------------------------------------------------------------------------------------------\n",
      "The file being processed is: pedCount.txt\n",
      "\n",
      "The unique values and their frequency count, presented as {unique Value: Count}, are:\n",
      "\n",
      "{0: 1129, 1: 642} \n",
      "\n",
      "-----------------------------------------------------------------------------------------------\n",
      "The file being processed is: posCount.txt\n",
      "\n",
      "There are more than 50 unique values, so a histogram over the values are shown.\n"
     ]
    },
    {
     "data": {
      "image/png": "[encoded data removed]",
      "text/plain": [
       "<Figure size 432x288 with 1 Axes>"
      ]
     },
     "metadata": {
      "needs_background": "light"
     },
     "output_type": "display_data"
    },
    {
     "name": "stdout",
     "output_type": "stream",
     "text": [
      "-----------------------------------------------------------------------------------------------\n",
      "The file being processed is: sensorCloudCount.txt\n",
      "\n",
      "The file contains 3 separate streams of values.\n",
      "\n",
      "There are more than 50 unique values, so a histogram over the values are shown.\n"
     ]
    },
    {
     "data": {
      "image/png": "[encoded data removed]",
      "text/plain": [
       "<Figure size 432x288 with 1 Axes>"
      ]
     },
     "metadata": {
      "needs_background": "light"
     },
     "output_type": "display_data"
    },
    {
     "name": "stdout",
     "output_type": "stream",
     "text": [
      "\n",
      "The unique values and their frequency count, presented as {unique Value: Count}, are:\n",
      "\n",
      "{0: 1516, 1: 60, 2: 26, 3: 20, 4: 16, 5: 6, 6: 14, 7: 10, 8: 6, 9: 5, 10: 10, 11: 5, 12: 10, 13: 8, 14: 3, 15: 2, 16: 5, 17: 4, 18: 6, 19: 5, 20: 6, 21: 3, 22: 3, 23: 7, 24: 3, 25: 3, 26: 1, 27: 1, 28: 1, 29: 1, 30: 1, 31: 1, 32: 1, 48: 1, 72: 1} \n",
      "\n",
      "\n",
      "The unique values and their frequency count, presented as {unique Value: Count}, are:\n",
      "\n",
      "{0: 1277, 1: 494} \n",
      "\n"
     ]
    }
   ],
   "source": [
    "# List the files you want to see statistics on as a list, or enter \"1\" to get statistics for all files.\n",
    "getStatistics(1)"
   ]
  },
  {
   "cell_type": "markdown",
   "metadata": {},
   "source": [
    "### Collisions with Pedestrians"
   ]
  },
  {
   "cell_type": "code",
   "execution_count": 15,
   "metadata": {},
   "outputs": [
    {
     "data": {
      "image/png": "[encoded data removed]",
      "text/plain": [
       "<Figure size 432x288 with 1 Axes>"
      ]
     },
     "metadata": {
      "needs_background": "light"
     },
     "output_type": "display_data"
    }
   ],
   "source": [
    "try:\n",
    "    with open(path+\"/pedCount.txt\", \"r\") as pedFile:\n",
    "        importedPedData = pedFile.readlines()\n",
    "    \n",
    "    importedPedDataClean = [int(re.sub(\"\\n\",\"\",i)) for i in importedPedData]\n",
    "    \n",
    "    plt.plot(np.arange(len(importedPedDataClean)),importedPedDataClean)\n",
    "    plt.title(\"Collisions with pedestrians\")\n",
    "    plt.ylabel(\"1 for collision\")\n",
    "    plt.xlabel(\"Sessions\")\n",
    "    plt.show()\n",
    "    \n",
    "except:\n",
    "    print(\"The file wasn't found in this folder\")"
   ]
  },
  {
   "cell_type": "markdown",
   "metadata": {},
   "source": [
    "### Collisions with sensor clouds"
   ]
  },
  {
   "cell_type": "code",
   "execution_count": 16,
   "metadata": {},
   "outputs": [
    {
     "data": {
      "image/png": "[encoded data removed]",
      "text/plain": [
       "<Figure size 432x288 with 1 Axes>"
      ]
     },
     "metadata": {
      "needs_background": "light"
     },
     "output_type": "display_data"
    },
    {
     "data": {
      "image/png": "[encoded data removed]",
      "text/plain": [
       "<Figure size 432x288 with 1 Axes>"
      ]
     },
     "metadata": {
      "needs_background": "light"
     },
     "output_type": "display_data"
    }
   ],
   "source": [
    "try:\n",
    "    with open(path+\"/sensorCloudCount.txt\", \"r\") as sccFile:\n",
    "        importedSccData = sccFile.readlines()\n",
    "       \n",
    "    sessions = []\n",
    "    numberOfCollisions = []\n",
    "    sessionEndedAtGoal = []\n",
    "\n",
    "    for obs in importedSccData:\n",
    "        temp = re.split(\",\",re.sub(\"[\\n ]\",\"\",obs))\n",
    "\n",
    "        # Appending the data to the relevant variables\n",
    "        sessions.append(int(temp[0]))\n",
    "        numberOfCollisions.append(int(temp[1]))\n",
    "        sessionEndedAtGoal.append(int(temp[2]))\n",
    "\n",
    "    plt.plot(sessions,numberOfCollisions)\n",
    "    plt.title(\"Sensor collision regardless of the outcome of the session\")\n",
    "    plt.xlabel(\"Sessions\")\n",
    "    plt.ylabel(\"Number of collisions\")\n",
    "    plt.show()\n",
    "    \n",
    "    subNumberOfCollisions = np.array(numberOfCollisions)[np.array(sessionEndedAtGoal)==1]\n",
    "    goalSessions = np.array(sessionEndedAtGoal)[np.array(sessionEndedAtGoal)==1]\n",
    "    \n",
    "    plt.plot(np.arange(len(goalSessions)),subNumberOfCollisions)\n",
    "    plt.title(\"Sensor collision, with agent reaching the goal\")\n",
    "    plt.xlabel(\"Sessions\")\n",
    "    plt.ylabel(\"Number of collisions\")\n",
    "    plt.show()\n",
    "    \n",
    "except:\n",
    "    print(\"The file wasn't found in this folder\")"
   ]
  },
  {
   "cell_type": "markdown",
   "metadata": {},
   "source": [
    "### Length of trials drawn"
   ]
  },
  {
   "cell_type": "code",
   "execution_count": 20,
   "metadata": {},
   "outputs": [
    {
     "data": {
      "image/png": "[encoded data removed]",
      "text/plain": [
       "<Figure size 432x288 with 1 Axes>"
      ]
     },
     "metadata": {
      "needs_background": "light"
     },
     "output_type": "display_data"
    },
    {
     "data": {
      "image/png": "[encoded data removed]",
      "text/plain": [
       "<Figure size 432x288 with 1 Axes>"
      ]
     },
     "metadata": {
      "needs_background": "light"
     },
     "output_type": "display_data"
    },
    {
     "data": {
      "image/png": "[encoded data removed]",
      "text/plain": [
       "<Figure size 432x288 with 1 Axes>"
      ]
     },
     "metadata": {
      "needs_background": "light"
     },
     "output_type": "display_data"
    },
    {
     "name": "stdout",
     "output_type": "stream",
     "text": [
      "\n",
      "Distribution of the data\n",
      "\n"
     ]
    },
    {
     "data": {
      "image/png": "[encoded data removed]",
      "text/plain": [
       "<Figure size 432x288 with 1 Axes>"
      ]
     },
     "metadata": {
      "needs_background": "light"
     },
     "output_type": "display_data"
    }
   ],
   "source": [
    "try:\n",
    "    with open(path+\"/posCount.txt\", \"r\") as posFile:\n",
    "        importedPosData = posFile.readlines()\n",
    "\n",
    "    importedPosDataClean = [int(re.sub(\"\\n\",\"\",i)) for i in importedPosData]\n",
    "    \n",
    "    plt.plot(np.arange(len(importedPosDataClean)),importedPosDataClean, marker=\"o\", linewidth=0, markersize=1)\n",
    "    plt.title(\"Length of trails - All outcomes\")\n",
    "    plt.ylabel(\"Length\")\n",
    "    plt.xlabel(\"Sessions\")\n",
    "    plt.show()\n",
    "\n",
    "    plt.hist(importedPosDataClean)\n",
    "    plt.title(\"Distribution of the data\")\n",
    "    plt.show()\n",
    "    \n",
    "    importedPosDataCleanGoal = np.array(importedPosDataClean)[np.array(sessionEndedAtGoal[9:])==1]\n",
    "    \n",
    "    plt.plot(np.arange(len(importedPosDataCleanGoal)),importedPosDataCleanGoal)\n",
    "    plt.title(\"Length of trails - Goal outcomes\")\n",
    "    plt.ylabel(\"Length\")\n",
    "    plt.xlabel(\"Sessions\")\n",
    "    plt.show()\n",
    "    \n",
    "    print(\"\\nDistribution of the data\\n\")\n",
    "    \n",
    "    plt.hist(importedPosDataCleanGoal)\n",
    "    plt.show()\n",
    "    \n",
    "except:\n",
    "    print(\"The error can have occured because of two reasons; \\\n",
    "Either the file wasn't found in this folder or there is a length mismatch between \\\n",
    "posCount.txt and sensorCloudCount.txt.\")"
   ]
  },
  {
   "cell_type": "code",
   "execution_count": 18,
   "metadata": {},
   "outputs": [
    {
     "data": {
      "text/plain": [
       "1771"
      ]
     },
     "execution_count": 18,
     "metadata": {},
     "output_type": "execute_result"
    }
   ],
   "source": [
    "len(sessionEndedAtGoal)"
   ]
  },
  {
   "cell_type": "code",
   "execution_count": 29,
   "metadata": {},
   "outputs": [
    {
     "data": {
      "text/plain": [
       "16685.295546558704"
      ]
     },
     "execution_count": 29,
     "metadata": {},
     "output_type": "execute_result"
    }
   ],
   "source": [
    "np.mean(importedPosDataCleanGoal)"
   ]
  },
  {
   "cell_type": "code",
   "execution_count": 30,
   "metadata": {},
   "outputs": [
    {
     "data": {
      "text/plain": [
       "16976.5"
      ]
     },
     "execution_count": 30,
     "metadata": {},
     "output_type": "execute_result"
    }
   ],
   "source": [
    "np.median(importedPosDataCleanGoal)"
   ]
  },
  {
   "cell_type": "code",
   "execution_count": 22,
   "metadata": {},
   "outputs": [],
   "source": [
    "vals, counts = np.unique(importedPosDataCleanGoal, return_counts = True)"
   ]
  },
  {
   "cell_type": "code",
   "execution_count": 27,
   "metadata": {},
   "outputs": [
    {
     "data": {
      "text/plain": [
       "array([    2,   970,   985,  2301,  2313,  2322,  2441,  2453,  2778,\n",
       "        2792,  3000,  3480,  3522,  3585,  3864,  3925,  3968,  4825,\n",
       "        4833,  4845,  4860,  4907,  4955,  5051,  5059,  5117,  5136,\n",
       "        5286,  5303,  5321,  5400,  5582,  5786,  5787,  5892,  5933,\n",
       "        6146,  6215,  6504,  6520,  6543,  6580,  6831,  6944,  6995,\n",
       "        7014,  7024,  7030,  7090,  7112,  7190,  7278,  7299,  7435,\n",
       "        7544,  7644,  8258,  8424,  8449,  8491,  8556,  8577,  8610,\n",
       "        8616,  8638,  8656,  8658,  8708,  8718,  8750,  8807,  8854,\n",
       "        8872,  8888,  8919,  9215,  9302,  9405,  9410,  9511,  9523,\n",
       "        9540,  9620,  9649,  9654,  9670,  9703,  9739,  9750,  9759,\n",
       "        9828,  9899,  9912, 10040, 10089, 10241, 10259, 10302, 10363,\n",
       "       10370, 10474, 10500, 10579, 10595, 10605, 10631, 10635, 10655,\n",
       "       10768, 10784, 10797, 10860, 10972, 10980, 10983, 11132, 11144,\n",
       "       11168, 11246, 11289, 11304, 11331, 11494, 11545, 11841, 11943,\n",
       "       12219, 12422, 12463, 12514, 12565, 12598, 12635, 12641, 12643,\n",
       "       12693, 12713, 12725, 12773, 12775, 12778, 12797, 12836, 12879,\n",
       "       12890, 12902, 12931, 13005, 13039, 13042, 13051, 13070, 13101,\n",
       "       13156, 13180, 13192, 13310, 13326, 13381, 13404, 13410, 13449,\n",
       "       13548, 13561, 13620, 13630, 13659, 13676, 13693, 13738, 13759,\n",
       "       13826, 13828, 13841, 13884, 13897, 13907, 13957, 14016, 14171,\n",
       "       14215, 14232, 14252, 14432, 14742, 14754, 14773, 14787, 14928,\n",
       "       14988, 15044, 15091, 15093, 15097, 15107, 15139, 15157, 15184,\n",
       "       15191, 15215, 15230, 15238, 15335, 15339, 15373, 15375, 15440,\n",
       "       15442, 15484, 15568, 15614, 15753, 15761, 15814, 15877, 15926,\n",
       "       15964, 15965, 15992, 16239, 16354, 16459, 16505, 16513, 16531,\n",
       "       16545, 16612, 16704, 16753, 16777, 16798, 16918, 16966, 16987,\n",
       "       16993, 17004, 17057, 17086, 17091, 17137, 17159, 17176, 17188,\n",
       "       17189, 17242, 17260, 17270, 17282, 17284, 17379, 17410, 17453,\n",
       "       17491, 17516, 17529, 17544, 17558, 17571, 17588, 17619, 17719,\n",
       "       17724, 17733, 17764, 17788, 17805, 17846, 17850, 17873, 17892,\n",
       "       17900, 17914, 18157, 18158, 18232, 18251, 18272, 18355, 18438,\n",
       "       18503, 19765, 19802, 19817, 19856, 19900, 19919, 19933, 19943,\n",
       "       19995, 20007, 20029, 20036, 20057, 20126, 20146, 20180, 20207,\n",
       "       20270, 20285, 20372, 20497, 20549, 20876, 20933, 20935, 21002,\n",
       "       21063, 21081, 21117, 21154, 21206, 21243, 21285, 21344, 21358,\n",
       "       21363, 21412, 21495, 21532, 21543, 21551, 21601, 21614, 21675,\n",
       "       21718, 21928, 21944, 22566, 22588, 22623, 22632, 22639, 22643,\n",
       "       22668, 22703, 22725, 22732, 22745, 22748, 22800, 22906, 22956,\n",
       "       22981, 23059, 23152, 23177, 23181, 23235, 23290, 23300, 23321,\n",
       "       23327, 23352, 23389, 23413, 23437, 23452, 23453, 23483, 23504,\n",
       "       23524, 23543, 23548, 23584, 23595, 23703, 23713, 23716, 23763,\n",
       "       23796, 23801, 23820, 23855, 23909, 23911, 23963, 24057, 24090,\n",
       "       24117, 24208, 24241, 24264, 24632, 24662, 24721, 24730, 24807,\n",
       "       24844, 24846, 24870, 24877, 24893, 24911, 24977, 25012, 25062,\n",
       "       25110, 25160, 25238, 25247, 25323, 25366, 25506, 25548, 25554,\n",
       "       25607, 25638, 25658, 25690, 25721, 25730, 25939, 25992, 26051,\n",
       "       26077, 26084, 26086, 26098, 26131, 26154, 26160, 26256, 26268,\n",
       "       26318, 26326, 26361, 26375, 26385, 26427, 26434, 26468, 26486,\n",
       "       26519, 26540, 26622, 26645, 26665, 26726, 26731, 27901, 27905,\n",
       "       27918, 27938, 27972, 27993, 28012, 28017, 28051, 28129, 28137,\n",
       "       28170, 28208, 28281, 28291, 28337, 28339, 28411, 28449, 28460,\n",
       "       28497, 28579, 28605, 28607, 28618, 28622, 28664, 28690, 28781,\n",
       "       28791, 28802, 28868, 28890, 28892, 29042, 29058, 29061, 29090,\n",
       "       29187, 29217, 29684])"
      ]
     },
     "execution_count": 27,
     "metadata": {},
     "output_type": "execute_result"
    }
   ],
   "source": [
    "vals"
   ]
  },
  {
   "cell_type": "code",
   "execution_count": 28,
   "metadata": {},
   "outputs": [
    {
     "data": {
      "text/plain": [
       "array([15,  1,  1,  1,  1,  1,  1,  1,  1,  1,  1,  1,  1,  1,  1,  1,  1,\n",
       "        1,  1,  1,  1,  1,  1,  1,  1,  1,  1,  1,  1,  1,  1,  1,  1,  1,\n",
       "        1,  1,  1,  1,  1,  1,  1,  1,  1,  1,  1,  1,  1,  1,  1,  1,  1,\n",
       "        1,  1,  1,  1,  1,  1,  1,  1,  1,  1,  1,  1,  1,  1,  1,  1,  1,\n",
       "        1,  1,  1,  1,  1,  1,  1,  1,  1,  1,  1,  1,  1,  1,  1,  1,  1,\n",
       "        1,  1,  1,  1,  1,  1,  1,  1,  1,  1,  1,  1,  1,  1,  1,  1,  1,\n",
       "        1,  1,  1,  1,  1,  1,  1,  1,  1,  1,  1,  1,  1,  1,  1,  1,  1,\n",
       "        1,  1,  1,  1,  1,  1,  1,  1,  1,  1,  1,  1,  1,  1,  1,  1,  1,\n",
       "        1,  1,  1,  1,  1,  1,  1,  1,  1,  1,  1,  1,  1,  1,  1,  1,  1,\n",
       "        1,  1,  1,  1,  1,  1,  1,  1,  1,  1,  1,  1,  1,  1,  1,  1,  1,\n",
       "        1,  1,  1,  1,  1,  1,  1,  1,  1,  1,  1,  1,  1,  1,  1,  1,  1,\n",
       "        1,  1,  1,  1,  1,  1,  1,  1,  1,  1,  1,  1,  1,  1,  1,  1,  1,\n",
       "        1,  1,  1,  1,  1,  1,  1,  1,  1,  1,  1,  1,  1,  1,  1,  1,  1,\n",
       "        1,  1,  1,  1,  1,  1,  1,  1,  1,  1,  1,  1,  1,  1,  1,  1,  1,\n",
       "        1,  1,  1,  1,  1,  1,  1,  1,  1,  1,  1,  1,  1,  1,  1,  1,  1,\n",
       "        1,  1,  1,  1,  1,  1,  1,  1,  1,  1,  1,  1,  1,  1,  1,  1,  1,\n",
       "        1,  1,  1,  1,  1,  1,  1,  1,  1,  1,  1,  1,  1,  1,  1,  1,  1,\n",
       "        1,  1,  1,  1,  1,  1,  1,  1,  1,  1,  1,  1,  1,  1,  1,  1,  1,\n",
       "        1,  1,  1,  1,  1,  1,  1,  1,  1,  1,  1,  1,  1,  1,  1,  1,  1,\n",
       "        1,  1,  1,  1,  1,  1,  1,  1,  1,  1,  1,  1,  1,  1,  1,  1,  1,\n",
       "        1,  1,  1,  1,  1,  1,  1,  1,  1,  1,  1,  1,  1,  1,  1,  1,  1,\n",
       "        1,  1,  1,  1,  1,  1,  1,  1,  1,  1,  1,  1,  1,  1,  1,  1,  1,\n",
       "        1,  1,  1,  1,  1,  1,  1,  1,  1,  1,  1,  1,  1,  1,  1,  1,  1,\n",
       "        1,  1,  1,  1,  1,  1,  1,  1,  1,  1,  1,  1,  1,  1,  1,  1,  1,\n",
       "        1,  1,  1,  1,  1,  1,  1,  1,  1,  1,  1,  1,  1,  1,  1,  1,  1,\n",
       "        1,  1,  1,  1,  1,  1,  1,  1,  1,  1,  1,  1,  1,  1,  1,  1,  1,\n",
       "        1,  1,  1,  1,  1,  1,  1,  1,  1,  1,  1,  1,  1,  1,  1,  1,  1,\n",
       "        1,  1,  1,  1,  1,  1,  1,  1,  1,  1,  1,  1,  1,  1,  1,  1,  1,\n",
       "        1,  1,  1,  1], dtype=int64)"
      ]
     },
     "execution_count": 28,
     "metadata": {},
     "output_type": "execute_result"
    }
   ],
   "source": [
    "counts"
   ]
  },
  {
   "cell_type": "markdown",
   "metadata": {},
   "source": [
    "### A, not successfull - yet, try to use visualise the above on Tensorboard"
   ]
  },
  {
   "cell_type": "code",
   "execution_count": null,
   "metadata": {},
   "outputs": [],
   "source": [
    "test = np.random.randint(0,3,10)"
   ]
  },
  {
   "cell_type": "code",
   "execution_count": null,
   "metadata": {},
   "outputs": [],
   "source": [
    "#x_scalar = tf.get_variable('x_scalar', shape=[], initializer=tf.truncated_normal_initializer(mean=0, stddev=1))\n",
    "x_scalar_1 = tf.get_variable('x_scalar_1', initializer=test)"
   ]
  },
  {
   "cell_type": "code",
   "execution_count": null,
   "metadata": {},
   "outputs": [],
   "source": [
    "tf.reset_default_graph()\n",
    "# ____step 1:____ create the scalar summary\n",
    "first_summary = tf.summary.scalar(name='My_first_scalar_summary_1', tensor=x_scalar)\n",
    "init = tf.global_variables_initializer()\n",
    "# launch the graph in a session\n",
    "with tf.Session() as sess:\n",
    "    # ____step 2:____ creating the writer inside the session\n",
    "    writer = tf.summary.FileWriter('./graphs', sess.graph)\n",
    "    for step in range(100):\n",
    "        # loop over several initializations of the variable\n",
    "        sess.run(init)\n",
    "        # ____step 3:____ evaluate the scalar summary\n",
    "        summary = sess.run(first_summary)\n",
    "        # ____step 4:____ add the summary to the writer (i.e. to the event file)\n",
    "        writer.add_summary(summary, step)\n",
    "    print('Done with writing the scalar summary')"
   ]
  },
  {
   "cell_type": "code",
   "execution_count": null,
   "metadata": {},
   "outputs": [],
   "source": [
    "#import tensorflow as tf\n",
    "tf.reset_default_graph()   # To clear the defined variables and operations of the previous cell\n",
    "# create the scalar variable\n",
    "x_scalar = tf.get_variable('x_scalar', shape=[], initializer=tf.truncated_normal_initializer(mean=0, stddev=1))\n",
    "# ____step 1:____ create the scalar summary\n",
    "first_summary = tf.summary.scalar(name='My_first_scalar_summary', tensor=x_scalar)\n",
    "init = tf.global_variables_initializer()\n",
    "# launch the graph in a session\n",
    "with tf.Session() as sess:\n",
    "    # ____step 2:____ creating the writer inside the session\n",
    "    writer = tf.summary.FileWriter('./graphs', sess.graph)\n",
    "    for step in range(100):\n",
    "        # loop over several initializations of the variable\n",
    "        sess.run(init)\n",
    "        # ____step 3:____ evaluate the scalar summary\n",
    "        summary = sess.run(first_summary)\n",
    "        # ____step 4:____ add the summary to the writer (i.e. to the event file)\n",
    "        writer.add_summary(summary, step)\n",
    "    print('Done with writing the scalar summary')"
   ]
  },
  {
   "cell_type": "code",
   "execution_count": null,
   "metadata": {},
   "outputs": [],
   "source": []
  }
 ],
 "metadata": {
  "kernelspec": {
   "display_name": "Python 3",
   "language": "python",
   "name": "python3"
  },
  "language_info": {
   "codemirror_mode": {
    "name": "ipython",
    "version": 3
   },
   "file_extension": ".py",
   "mimetype": "text/x-python",
   "name": "python",
   "nbconvert_exporter": "python",
   "pygments_lexer": "ipython3",
   "version": "3.6.6"
  }
 },
 "nbformat": 4,
 "nbformat_minor": 2
}
