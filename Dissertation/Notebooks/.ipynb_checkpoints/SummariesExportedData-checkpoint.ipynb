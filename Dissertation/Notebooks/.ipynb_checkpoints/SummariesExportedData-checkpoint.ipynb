{
 "cells": [
  {
   "cell_type": "code",
   "execution_count": 1,
   "metadata": {},
   "outputs": [
    {
     "name": "stderr",
     "output_type": "stream",
     "text": [
      "C:\\Users\\Krist\\Anaconda3\\lib\\site-packages\\h5py\\__init__.py:36: FutureWarning: Conversion of the second argument of issubdtype from `float` to `np.floating` is deprecated. In future, it will be treated as `np.float64 == np.dtype(float).type`.\n",
      "  from ._conv import register_converters as _register_converters\n"
     ]
    }
   ],
   "source": [
    "import numpy as np\n",
    "import pandas as pd\n",
    "import matplotlib.pyplot as plt\n",
    "import tensorflow as tf\n",
    "import re\n",
    "import os"
   ]
  },
  {
   "cell_type": "code",
   "execution_count": 2,
   "metadata": {},
   "outputs": [],
   "source": [
    "def getStatistics(files):\n",
    "    if files == 1:\n",
    "        filesForProcessing = availableFiles[:]\n",
    "        \n",
    "    elif isinstance(files,list):\n",
    "        filesForProcessing = files[:]\n",
    "    else:\n",
    "        print(\"Incorrect format - please specify either a list or '1'\")\n",
    "    \n",
    "    for element in filesForProcessing:\n",
    "        print(\"-----------------------------------------------------------------------------------------------\")\n",
    "        print(\"The file being processed is: %s\" % element)\n",
    "        \n",
    "        with open(path + \"/\"+element,\"r\") as file:\n",
    "            temp = file.readlines()\n",
    "\n",
    "        tempClean = [re.sub(\"[\\n ]\",\"\",i) for i in temp]\n",
    "\n",
    "        if len(tempClean[0]) == 1:\n",
    "\n",
    "            tempClean = [int(i) for i in tempClean]\n",
    "\n",
    "            uniqueVals, counts = np.unique(tempClean,return_counts = True)# Perhaps should listOfObs be sorted?\n",
    "\n",
    "            if len(uniqueVals) > 50:\n",
    "                print(\"\\nThere are more than 50 unique values, so a histogram over the values are shown.\")\n",
    "#                     answer = input(\"There are more than 50 unique values, do you want to see them? \")\n",
    "\n",
    "#                     if (answer == 'yes') or (answer == 'Yes'):\n",
    "#                         print(\"The unique values and their frequency count, presented as {unique Value: Count}, are:\\n\")\n",
    "#                         print({uniqueVal:count for uniqueVal,count in zip(uniqueVals,counts)},\"\\n\")\n",
    "                plt.hist(tempClean)\n",
    "                plt.title(\"Distribution of the data\")\n",
    "                plt.show()\n",
    "            else:\n",
    "                print(\"\\nThe unique values and their frequency count, presented as {unique Value: Count}, are:\\n\")\n",
    "                print({uniqueVal:count for uniqueVal,count in zip(uniqueVals,counts)},\"\\n\")\n",
    "\n",
    "        else:\n",
    "\n",
    "            tempClean = [re.split(\",\",i) for i in tempClean]\n",
    "\n",
    "            lenOfElements = len(tempClean[0])\n",
    "\n",
    "            database = [[] for i in np.arange(lenOfElements)]\n",
    "\n",
    "            # Dividing in the observations\n",
    "            for observation in tempClean:\n",
    "                for partial in enumerate(observation):\n",
    "\n",
    "                    database[partial[0]].append(int(partial[1]))\n",
    "\n",
    "            # Getting information on the content of each list in the database.\n",
    "            print(\"\\nThe file contains %i separate streams of values.\" % lenOfElements)\n",
    "            for listOfObs in database:\n",
    "                uniqueVals, counts = np.unique(listOfObs,return_counts = True)# Perhaps should listOfObs be sorted?\n",
    "\n",
    "                if (all(counts == 1)):\n",
    "                    answer = input(\"\\nAll values of the variable currently being processed is equal to one, which indiates\\\n",
    "that the values are numberic of other values. Do you want to disregard the processing of these values? \")\n",
    "                    if (answer == 'no') or (answer == 'No'):\n",
    "                        print({uniqueVal:count for uniqueVal,count in zip(uniqueVals,counts)},\"\\n\")\n",
    "\n",
    "                else:\n",
    "                    if len(uniqueVals) > 50:\n",
    "#                             answer = input(\"There are more than 50 unique values, do you want to see them? \")\n",
    "\n",
    "#                             if (answer == 'yes') or (answer == 'Yes'):\n",
    "#                                 print(\"The unique values and their frequency count, presented as {unique Value: Count}, are:\\n\")\n",
    "#                                 print({uniqueVal:count for uniqueVal,count in zip(uniqueVals,counts)},\"\\n\")\n",
    "                        print(\"\\nThere are more than 50 unique values, so a histogram over the values are shown.\")\n",
    "                        plt.hist(listOfObs)\n",
    "                        plt.title(\"Distribution of the data\")\n",
    "                        plt.show()\n",
    "                    else:\n",
    "                        print(\"\\nThe unique values and their frequency count, presented as {unique Value: Count}, are:\\n\")\n",
    "                        print({uniqueVal:count for uniqueVal,count in zip(uniqueVals,counts)},\"\\n\")"
   ]
  },
  {
   "cell_type": "code",
   "execution_count": 3,
   "metadata": {},
   "outputs": [],
   "source": [
    "availableFolders = {}\n",
    "folderCount = 0\n",
    "\n",
    "for element in os.listdir(\"../Assets/Exported_Data\"):\n",
    "    if (\"txt\" not in element) and (\"meta\" not in element):\n",
    "        availableFolders[folderCount] = element\n",
    "        folderCount += 1\n",
    "        "
   ]
  },
  {
   "cell_type": "code",
   "execution_count": 4,
   "metadata": {},
   "outputs": [
    {
     "name": "stdout",
     "output_type": "stream",
     "text": [
      "The available folders, containing the data of interest, are:\n"
     ]
    },
    {
     "data": {
      "text/plain": [
       "{0: 'Profiling - FullSetupWithVisualInput',\n",
       " 1: 'Profiling-1.10',\n",
       " 2: 'Profiling-1.4',\n",
       " 3: 'Profiling-1.5',\n",
       " 4: 'Profiling-1.6',\n",
       " 5: 'Profiling-1.7',\n",
       " 6: 'Profiling-1.8',\n",
       " 7: 'Profiling-1.9'}"
      ]
     },
     "execution_count": 4,
     "metadata": {},
     "output_type": "execute_result"
    }
   ],
   "source": [
    "print(\"The available folders, containing the data of interest, are:\")\n",
    "availableFolders"
   ]
  },
  {
   "cell_type": "code",
   "execution_count": 5,
   "metadata": {},
   "outputs": [],
   "source": [
    "path = \"C:/Users/Krist/GitHub/ml-agents/Dissertation/Assets/Exported_Data/\"+availableFolders[6]# <- Choose the folders from above"
   ]
  },
  {
   "cell_type": "markdown",
   "metadata": {},
   "source": [
    "## Statistics on the content of the files in the folder"
   ]
  },
  {
   "cell_type": "code",
   "execution_count": 6,
   "metadata": {},
   "outputs": [
    {
     "name": "stdout",
     "output_type": "stream",
     "text": [
      "The available files are: \n"
     ]
    },
    {
     "data": {
      "text/plain": [
       "['pedCount.txt', 'posCount.txt', 'sensorCloudCount.txt']"
      ]
     },
     "execution_count": 6,
     "metadata": {},
     "output_type": "execute_result"
    }
   ],
   "source": [
    "availableFiles = [ele for ele in os.listdir(path) if \"meta\" not in ele]\n",
    "print(\"The available files are: \")\n",
    "availableFiles"
   ]
  },
  {
   "cell_type": "code",
   "execution_count": 7,
   "metadata": {},
   "outputs": [
    {
     "name": "stdout",
     "output_type": "stream",
     "text": [
      "-----------------------------------------------------------------------------------------------\n",
      "The file being processed is: pedCount.txt\n",
      "\n",
      "The unique values and their frequency count, presented as {unique Value: Count}, are:\n",
      "\n",
      "{0: 558, 1: 279} \n",
      "\n",
      "-----------------------------------------------------------------------------------------------\n",
      "The file being processed is: posCount.txt\n",
      "\n",
      "There are more than 50 unique values, so a histogram over the values are shown.\n"
     ]
    },
    {
     "data": {
      "image/png": "[encoded data removed]",
      "text/plain": [
       "<Figure size 432x288 with 1 Axes>"
      ]
     },
     "metadata": {
      "needs_background": "light"
     },
     "output_type": "display_data"
    },
    {
     "name": "stdout",
     "output_type": "stream",
     "text": [
      "-----------------------------------------------------------------------------------------------\n",
      "The file being processed is: sensorCloudCount.txt\n",
      "\n",
      "The file contains 3 separate streams of values.\n",
      "\n",
      "All values of the variable currently being processed is equal to one, which indiatesthat the values are numberic of other values. Do you want to disregard the processing of these values? yes\n",
      "\n",
      "The unique values and their frequency count, presented as {unique Value: Count}, are:\n",
      "\n",
      "{0: 703, 1: 21, 2: 17, 3: 10, 4: 11, 5: 8, 6: 4, 7: 6, 8: 3, 9: 7, 10: 8, 11: 5, 12: 2, 13: 2, 14: 4, 15: 1, 16: 2, 17: 2, 18: 3, 19: 2, 20: 4, 21: 2, 22: 2, 25: 1, 26: 1, 27: 2, 29: 2, 30: 2} \n",
      "\n",
      "\n",
      "The unique values and their frequency count, presented as {unique Value: Count}, are:\n",
      "\n",
      "{0: 706, 1: 131} \n",
      "\n"
     ]
    }
   ],
   "source": [
    "# List the files you want to see statistics on as a list, or enter \"1\" to get statistics for all files.\n",
    "getStatistics(1)"
   ]
  },
  {
   "cell_type": "markdown",
   "metadata": {},
   "source": [
    "### Collisions with Pedestrians"
   ]
  },
  {
   "cell_type": "code",
   "execution_count": null,
   "metadata": {},
   "outputs": [],
   "source": [
    "try:\n",
    "    with open(path+\"/pedCount.txt\", \"r\") as pedFile:\n",
    "        importedPedData = pedFile.readlines()\n",
    "    \n",
    "    importedPedDataClean = [int(re.sub(\"\\n\",\"\",i)) for i in importedPedData]\n",
    "    \n",
    "    plt.plot(np.arange(len(importedPedDataClean)),importedPedDataClean)\n",
    "    plt.title(\"Collisions with pedestrians\")\n",
    "    plt.ylabel(\"1 for collision\")\n",
    "    plt.xlabel(\"Sessions\")\n",
    "    plt.show()\n",
    "    \n",
    "except:\n",
    "    print(\"The file wasn't found in this folder\")"
   ]
  },
  {
   "cell_type": "markdown",
   "metadata": {},
   "source": [
    "### Collisions with sensor clouds"
   ]
  },
  {
   "cell_type": "code",
   "execution_count": null,
   "metadata": {},
   "outputs": [],
   "source": [
    "try:\n",
    "    with open(path+\"/sensorCloudCount.txt\", \"r\") as sccFile:\n",
    "        importedSccData = sccFile.readlines()\n",
    "       \n",
    "    sessions = []\n",
    "    numberOfCollisions = []\n",
    "    sessionEndedAtGoal = []\n",
    "\n",
    "    for obs in importedSccData:\n",
    "        temp = re.split(\",\",re.sub(\"[\\n ]\",\"\",obs))\n",
    "\n",
    "        # Appending the data to the relevant variables\n",
    "        sessions.append(int(temp[0]))\n",
    "        numberOfCollisions.append(int(temp[1]))\n",
    "        sessionEndedAtGoal.append(int(temp[2]))\n",
    "\n",
    "    plt.plot(sessions,numberOfCollisions)\n",
    "    plt.title(\"Sensor collision regardless of the outcome of the session\")\n",
    "    plt.xlabel(\"Sessions\")\n",
    "    plt.ylabel(\"Number of collisions\")\n",
    "    plt.show()\n",
    "    \n",
    "    subNumberOfCollisions = np.array(numberOfCollisions)[np.array(sessionEndedAtGoal)==1]\n",
    "    goalSessions = np.array(sessionEndedAtGoal)[np.array(sessionEndedAtGoal)==1]\n",
    "    \n",
    "    plt.plot(np.arange(len(goalSessions)),subNumberOfCollisions)\n",
    "    plt.title(\"Sensor collision, with agent reaching the goal\")\n",
    "    plt.xlabel(\"Sessions\")\n",
    "    plt.ylabel(\"Number of collisions\")\n",
    "    plt.show()\n",
    "    \n",
    "except:\n",
    "    print(\"The file wasn't found in this folder\")"
   ]
  },
  {
   "cell_type": "markdown",
   "metadata": {},
   "source": [
    "### Length of trials drawn"
   ]
  },
  {
   "cell_type": "code",
   "execution_count": null,
   "metadata": {},
   "outputs": [],
   "source": [
    "try:\n",
    "    with open(path+\"/posCount.txt\", \"r\") as posFile:\n",
    "        importedPosData = posFile.readlines()\n",
    "\n",
    "    importedPosDataClean = [int(re.sub(\"\\n\",\"\",i)) for i in importedPosData]\n",
    "    \n",
    "    plt.plot(np.arange(len(importedPosDataClean)),importedPosDataClean, marker=\"o\", linewidth=0, markersize=1)\n",
    "    plt.title(\"Length of trails - All outcomes\")\n",
    "    plt.ylabel(\"Length\")\n",
    "    plt.xlabel(\"Sessions\")\n",
    "    plt.show()\n",
    "\n",
    "    plt.hist(importedPosDataClean)\n",
    "    plt.title(\"Distribution of the data\")\n",
    "    plt.show()\n",
    "    \n",
    "    importedPosDataCleanGoal = np.array(importedPosDataClean)[np.array(sessionEndedAtGoal)==1]\n",
    "    \n",
    "    plt.plot(np.arange(len(importedPosDataCleanGoal)),importedPosDataCleanGoal)\n",
    "    plt.title(\"Length of trails - Goal outcomes\")\n",
    "    plt.ylabel(\"Length\")\n",
    "    plt.xlabel(\"Sessions\")\n",
    "    plt.show()\n",
    "    \n",
    "    print(\"\\nDistribution of the data\\n\")\n",
    "    \n",
    "    plt.hist(importedPosDataCleanGoal)\n",
    "    plt.show()\n",
    "    \n",
    "except:\n",
    "    print(\"The error can have occured because of two reasons; \\\n",
    "Either the file wasn't found in this folder or there is a length mismatch between \\\n",
    "posCount.txt and sensorCloudCount.txt.\")"
   ]
  },
  {
   "cell_type": "markdown",
   "metadata": {},
   "source": [
    "### A, not successfull - yet, try to use visualise the above on Tensorboard"
   ]
  },
  {
   "cell_type": "code",
   "execution_count": null,
   "metadata": {},
   "outputs": [],
   "source": [
    "test = np.random.randint(0,3,10)"
   ]
  },
  {
   "cell_type": "code",
   "execution_count": null,
   "metadata": {},
   "outputs": [],
   "source": [
    "#x_scalar = tf.get_variable('x_scalar', shape=[], initializer=tf.truncated_normal_initializer(mean=0, stddev=1))\n",
    "x_scalar_1 = tf.get_variable('x_scalar_1', initializer=test)"
   ]
  },
  {
   "cell_type": "code",
   "execution_count": null,
   "metadata": {},
   "outputs": [],
   "source": [
    "tf.reset_default_graph()\n",
    "# ____step 1:____ create the scalar summary\n",
    "first_summary = tf.summary.scalar(name='My_first_scalar_summary_1', tensor=x_scalar)\n",
    "init = tf.global_variables_initializer()\n",
    "# launch the graph in a session\n",
    "with tf.Session() as sess:\n",
    "    # ____step 2:____ creating the writer inside the session\n",
    "    writer = tf.summary.FileWriter('./graphs', sess.graph)\n",
    "    for step in range(100):\n",
    "        # loop over several initializations of the variable\n",
    "        sess.run(init)\n",
    "        # ____step 3:____ evaluate the scalar summary\n",
    "        summary = sess.run(first_summary)\n",
    "        # ____step 4:____ add the summary to the writer (i.e. to the event file)\n",
    "        writer.add_summary(summary, step)\n",
    "    print('Done with writing the scalar summary')"
   ]
  },
  {
   "cell_type": "code",
   "execution_count": null,
   "metadata": {},
   "outputs": [],
   "source": [
    "#import tensorflow as tf\n",
    "tf.reset_default_graph()   # To clear the defined variables and operations of the previous cell\n",
    "# create the scalar variable\n",
    "x_scalar = tf.get_variable('x_scalar', shape=[], initializer=tf.truncated_normal_initializer(mean=0, stddev=1))\n",
    "# ____step 1:____ create the scalar summary\n",
    "first_summary = tf.summary.scalar(name='My_first_scalar_summary', tensor=x_scalar)\n",
    "init = tf.global_variables_initializer()\n",
    "# launch the graph in a session\n",
    "with tf.Session() as sess:\n",
    "    # ____step 2:____ creating the writer inside the session\n",
    "    writer = tf.summary.FileWriter('./graphs', sess.graph)\n",
    "    for step in range(100):\n",
    "        # loop over several initializations of the variable\n",
    "        sess.run(init)\n",
    "        # ____step 3:____ evaluate the scalar summary\n",
    "        summary = sess.run(first_summary)\n",
    "        # ____step 4:____ add the summary to the writer (i.e. to the event file)\n",
    "        writer.add_summary(summary, step)\n",
    "    print('Done with writing the scalar summary')"
   ]
  },
  {
   "cell_type": "code",
   "execution_count": null,
   "metadata": {},
   "outputs": [],
   "source": []
  }
 ],
 "metadata": {
  "kernelspec": {
   "display_name": "Python 3",
   "language": "python",
   "name": "python3"
  },
  "language_info": {
   "codemirror_mode": {
    "name": "ipython",
    "version": 3
   },
   "file_extension": ".py",
   "mimetype": "text/x-python",
   "name": "python",
   "nbconvert_exporter": "python",
   "pygments_lexer": "ipython3",
   "version": "3.6.6"
  }
 },
 "nbformat": 4,
 "nbformat_minor": 2
}
