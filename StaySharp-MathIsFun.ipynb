{
 "cells": [
  {
   "cell_type": "code",
   "execution_count": 10,
   "metadata": {},
   "outputs": [],
   "source": [
    "import os\n",
    "import time\n",
    "import numpy as np\n",
    "from staySharp import mathEngine\n",
    "import re\n",
    "import pandas as pd"
   ]
  },
  {
   "cell_type": "code",
   "execution_count": 2,
   "metadata": {},
   "outputs": [
    {
     "name": "stdout",
     "output_type": "stream",
     "text": [
      "What is 64 times 98? Answer: 6262\n",
      "Your time was 17.588 (enter any key to continue.)\n",
      "\n",
      "Wrong! The answer is: 6272\n"
     ]
    }
   ],
   "source": [
    "mathEngine()"
   ]
  },
  {
   "cell_type": "code",
   "execution_count": 8,
   "metadata": {},
   "outputs": [],
   "source": [
    "with open(\"results.txt\",\"r\") as file:\n",
    "    content = file.readlines()\n",
    "    \n",
    "content = [re.split(\",\",re.sub(\"[\\n]\",\"\",line)) for line in content]"
   ]
  },
  {
   "cell_type": "code",
   "execution_count": 11,
   "metadata": {},
   "outputs": [
    {
     "data": {
      "text/html": [
       "<div>\n",
       "<style scoped>\n",
       "    .dataframe tbody tr th:only-of-type {\n",
       "        vertical-align: middle;\n",
       "    }\n",
       "\n",
       "    .dataframe tbody tr th {\n",
       "        vertical-align: top;\n",
       "    }\n",
       "\n",
       "    .dataframe thead th {\n",
       "        text-align: right;\n",
       "    }\n",
       "</style>\n",
       "<table border=\"1\" class=\"dataframe\">\n",
       "  <thead>\n",
       "    <tr style=\"text-align: right;\">\n",
       "      <th></th>\n",
       "      <th>Number</th>\n",
       "      <th>Correct</th>\n",
       "      <th>First_number</th>\n",
       "      <th>Second_number</th>\n",
       "      <th>Time</th>\n",
       "    </tr>\n",
       "  </thead>\n",
       "  <tbody>\n",
       "    <tr>\n",
       "      <th>0</th>\n",
       "      <td>0</td>\n",
       "      <td>1</td>\n",
       "      <td>27</td>\n",
       "      <td>33</td>\n",
       "      <td>39.24</td>\n",
       "    </tr>\n",
       "    <tr>\n",
       "      <th>1</th>\n",
       "      <td>1</td>\n",
       "      <td>1</td>\n",
       "      <td>27</td>\n",
       "      <td>89</td>\n",
       "      <td>21.72</td>\n",
       "    </tr>\n",
       "    <tr>\n",
       "      <th>2</th>\n",
       "      <td>2</td>\n",
       "      <td>0</td>\n",
       "      <td>64</td>\n",
       "      <td>98</td>\n",
       "      <td>17.59</td>\n",
       "    </tr>\n",
       "  </tbody>\n",
       "</table>\n",
       "</div>"
      ],
      "text/plain": [
       "  Number Correct First_number Second_number   Time\n",
       "0      0       1           27            33  39.24\n",
       "1      1       1           27            89  21.72\n",
       "2      2       0           64            98  17.59"
      ]
     },
     "execution_count": 11,
     "metadata": {},
     "output_type": "execute_result"
    }
   ],
   "source": [
    "pd.DataFrame(content[1:],columns=content[0])"
   ]
  },
  {
   "cell_type": "code",
   "execution_count": null,
   "metadata": {},
   "outputs": [],
   "source": []
  },
  {
   "cell_type": "code",
   "execution_count": null,
   "metadata": {},
   "outputs": [],
   "source": []
  },
  {
   "cell_type": "code",
   "execution_count": 33,
   "metadata": {},
   "outputs": [],
   "source": [
    "# Future development:\n",
    "#\n",
    "# * Add degree of difficulty\n",
    "# * Let the user specify a frequency (low,medium,high) and draw a number within some bounded range.\n",
    "\n",
    "files = os.listdir()\n",
    "\n",
    "if \"results.txt\" not in files:\n",
    "    with open(\"results.txt\",\"w\") as file:\n",
    "        file.write(\"Number,Correct,First_number,Second_number,Time\")\n",
    "\n",
    "def mathEngine():\n",
    "    \n",
    "    runTime = int(input(\"For how long (in minutes) should I provide you with challenges?\"))*60\n",
    "    \n",
    "    howMany = int(input(\"How many challenges are you looking to get?\"))\n",
    "    \n",
    "    occurences = sorted(np.random.randint(0,runTime,howMany))\n",
    "    \n",
    "    keepTrack = [False for occurence in occurences]\n",
    "    \n",
    "    degreeOfFun = 0\n",
    "    \n",
    "    with open(\"results.txt\",\"r\") as file:\n",
    "        number = len(file.readlines()) - 1\n",
    "    \n",
    "    start = time.time()\n",
    "    \n",
    "    print(occurences)\n",
    "    \n",
    "    while(any(keepTrack)==False):\n",
    "        \n",
    "        if degreeOfFun == 0:\n",
    "            \n",
    "            shift = 0\n",
    "        else:\n",
    "            \n",
    "            shift = occurences[degreeOfFun - 1]\n",
    "        \n",
    "        timeTracker = (time.time() - start) + shift \n",
    "        \n",
    "        if ((timeTracker > occurences[degreeOfFun] * 0.98) and (timeTracker > occurences[degreeOfFun] * 1.02)):\n",
    "            \n",
    "            first_number = np.random.randint(10,99)\n",
    "            second_number = np.random.randint(10,99)\n",
    "            \n",
    "            goo = time.time()\n",
    "            \n",
    "            answer = int(input(\"What is %i times %i?\" % (first_number,second_number)))\n",
    "            \n",
    "            end = time.time()\n",
    "            \n",
    "            popUp = input(\"Your time was %.3f (enter any key to continue.)\" % (end-goo))\n",
    "            \n",
    "            # Checking the result\n",
    "            if answer == first_number * second_number:\n",
    "                correct = 1\n",
    "            else:\n",
    "                correct = 0\n",
    "                \n",
    "            # Saving the result\n",
    "            with open(\"results.txt\",\"a\") as file:\n",
    "                file.write(str(number)+\",\"+str(correct)+\",\"+str(first_number)+\",\"+str(second_number)\\\n",
    "                          +\",\"+str(round((end-goo),2)))\n",
    "            \n",
    "            keepTrack[degreeOfFun] = True\n",
    "            degreeOfFun += 1\n",
    "            number += 1\n",
    "            start = time.time()"
   ]
  },
  {
   "cell_type": "code",
   "execution_count": 34,
   "metadata": {},
   "outputs": [
    {
     "name": "stdout",
     "output_type": "stream",
     "text": [
      "For how long (in minutes) should I provide you with challenges?1\n",
      "How many challenges are you looking to get?2\n",
      "[17, 33]\n",
      "What is 37 times 46?1722\n",
      "Your time was 41.639 (enter any key to continue.)\n"
     ]
    }
   ],
   "source": [
    "mathEngine()"
   ]
  },
  {
   "cell_type": "code",
   "execution_count": 10,
   "metadata": {},
   "outputs": [],
   "source": [
    "start = time.time()"
   ]
  },
  {
   "cell_type": "code",
   "execution_count": 32,
   "metadata": {},
   "outputs": [
    {
     "ename": "NameError",
     "evalue": "name 'number' is not defined",
     "output_type": "error",
     "traceback": [
      "\u001b[1;31m---------------------------------------------------------------------------\u001b[0m",
      "\u001b[1;31mNameError\u001b[0m                                 Traceback (most recent call last)",
      "\u001b[1;32m<ipython-input-32-ca81599c44d2>\u001b[0m in \u001b[0;36m<module>\u001b[1;34m\u001b[0m\n\u001b[0;32m      1\u001b[0m \u001b[0mstr\u001b[0m\u001b[1;33m(\u001b[0m\u001b[0mnumber\u001b[0m\u001b[1;33m)\u001b[0m\u001b[1;33m+\u001b[0m\u001b[1;34m\",\"\u001b[0m\u001b[1;33m+\u001b[0m\u001b[0mstr\u001b[0m\u001b[1;33m(\u001b[0m\u001b[0mcorrect\u001b[0m\u001b[1;33m)\u001b[0m\u001b[1;33m+\u001b[0m\u001b[1;34m\",\"\u001b[0m\u001b[1;33m+\u001b[0m\u001b[0mstr\u001b[0m\u001b[1;33m(\u001b[0m\u001b[0mfirst_number\u001b[0m\u001b[1;33m)\u001b[0m\u001b[1;33m+\u001b[0m\u001b[1;34m\",\"\u001b[0m\u001b[1;33m+\u001b[0m\u001b[0mstr\u001b[0m\u001b[1;33m(\u001b[0m\u001b[0msecond_number\u001b[0m\u001b[1;33m)\u001b[0m\u001b[0;31m\\\u001b[0m\u001b[1;33m\u001b[0m\u001b[0m\n\u001b[1;32m----> 2\u001b[1;33m                           \u001b[1;33m+\u001b[0m\u001b[1;34m\",\"\u001b[0m\u001b[1;33m+\u001b[0m\u001b[0mstr\u001b[0m\u001b[1;33m(\u001b[0m\u001b[0mround\u001b[0m\u001b[1;33m(\u001b[0m\u001b[1;33m(\u001b[0m\u001b[0mend\u001b[0m\u001b[1;33m-\u001b[0m\u001b[0mgoo\u001b[0m\u001b[1;33m)\u001b[0m\u001b[1;33m,\u001b[0m\u001b[1;36m2\u001b[0m\u001b[1;33m)\u001b[0m\u001b[1;33m)\u001b[0m\u001b[1;33m\u001b[0m\u001b[0m\n\u001b[0m",
      "\u001b[1;31mNameError\u001b[0m: name 'number' is not defined"
     ]
    }
   ],
   "source": [
    "str(number)+\",\"+str(correct)+\",\"+str(first_number)+\",\"+str(second_number)\\\n",
    "                          +\",\"+str(round((end-goo),2))"
   ]
  },
  {
   "cell_type": "code",
   "execution_count": 4,
   "metadata": {},
   "outputs": [],
   "source": [
    "test = [False for i in np.arange(5)]"
   ]
  },
  {
   "cell_type": "code",
   "execution_count": 17,
   "metadata": {},
   "outputs": [],
   "source": [
    "test[0]=True"
   ]
  },
  {
   "cell_type": "code",
   "execution_count": 18,
   "metadata": {},
   "outputs": [
    {
     "data": {
      "text/plain": [
       "[True, False, False, False, False]"
      ]
     },
     "execution_count": 18,
     "metadata": {},
     "output_type": "execute_result"
    }
   ],
   "source": [
    "test"
   ]
  },
  {
   "cell_type": "code",
   "execution_count": 9,
   "metadata": {},
   "outputs": [
    {
     "data": {
      "text/plain": [
       "True"
      ]
     },
     "execution_count": 9,
     "metadata": {},
     "output_type": "execute_result"
    }
   ],
   "source": [
    "any(test)==False"
   ]
  },
  {
   "cell_type": "code",
   "execution_count": 10,
   "metadata": {},
   "outputs": [
    {
     "name": "stdout",
     "output_type": "stream",
     "text": [
      "hej 1.222\n"
     ]
    }
   ],
   "source": [
    "print(\"hej %.3f\"%(1.2223))"
   ]
  },
  {
   "cell_type": "code",
   "execution_count": 16,
   "metadata": {},
   "outputs": [
    {
     "name": "stdout",
     "output_type": "stream",
     "text": [
      "1\n"
     ]
    }
   ],
   "source": [
    "with open(\"results.txt\",\"r\") as file:\n",
    "    number = len(file.readlines())\n",
    "print(number)"
   ]
  },
  {
   "cell_type": "code",
   "execution_count": 3,
   "metadata": {},
   "outputs": [
    {
     "name": "stdout",
     "output_type": "stream",
     "text": [
      "For how long (in minutes) should I provide you with challenges?1\n",
      "How many challenges are you looking to get?1\n"
     ]
    }
   ],
   "source": [
    "runTime = int(input(\"For how long (in minutes) should I provide you with challenges?\"))*60\n",
    "    \n",
    "howMany = int(input(\"How many challenges are you looking to get?\"))\n",
    "\n",
    "occurences = sorted(np.random.randint(0,runTime,howMany))\n",
    "\n",
    "keepTrack = [False for occurence in occurences]"
   ]
  },
  {
   "cell_type": "code",
   "execution_count": 4,
   "metadata": {},
   "outputs": [
    {
     "data": {
      "text/plain": [
       "[54]"
      ]
     },
     "execution_count": 4,
     "metadata": {},
     "output_type": "execute_result"
    }
   ],
   "source": [
    "occurences"
   ]
  },
  {
   "cell_type": "code",
   "execution_count": 5,
   "metadata": {},
   "outputs": [
    {
     "data": {
      "text/plain": [
       "[False]"
      ]
     },
     "execution_count": 5,
     "metadata": {},
     "output_type": "execute_result"
    }
   ],
   "source": [
    "keepTrack"
   ]
  },
  {
   "cell_type": "code",
   "execution_count": 17,
   "metadata": {},
   "outputs": [
    {
     "data": {
      "text/plain": [
       "14.379752159118652"
      ]
     },
     "execution_count": 17,
     "metadata": {},
     "output_type": "execute_result"
    }
   ],
   "source": [
    "time.time()-start"
   ]
  },
  {
   "cell_type": "code",
   "execution_count": null,
   "metadata": {},
   "outputs": [],
   "source": []
  }
 ],
 "metadata": {
  "kernelspec": {
   "display_name": "Python 3",
   "language": "python",
   "name": "python3"
  },
  "language_info": {
   "codemirror_mode": {
    "name": "ipython",
    "version": 3
   },
   "file_extension": ".py",
   "mimetype": "text/x-python",
   "name": "python",
   "nbconvert_exporter": "python",
   "pygments_lexer": "ipython3",
   "version": "3.6.6"
  }
 },
 "nbformat": 4,
 "nbformat_minor": 2
}
